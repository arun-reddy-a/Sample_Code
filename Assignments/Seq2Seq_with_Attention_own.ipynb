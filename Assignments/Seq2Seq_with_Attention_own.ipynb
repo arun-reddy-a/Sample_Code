{
 "cells": [
  {
   "cell_type": "code",
   "execution_count": 1,
   "metadata": {},
   "outputs": [],
   "source": [
    "import torch\n",
    "import torch.nn as nn\n",
    "import torch.nn.functional as F\n",
    "import torch.optim as optim\n",
    "import os\n",
    "from tqdm import tqdm\n",
    "import torchdata.datapipes as dp\n",
    "import torchtext.transforms as T\n",
    "from torchtext.vocab import build_vocab_from_iterator\n",
    "import spacy\n",
    "import random"
   ]
  },
  {
   "cell_type": "markdown",
   "metadata": {},
   "source": [
    "### Getting The Data"
   ]
  },
  {
   "cell_type": "code",
   "execution_count": 2,
   "metadata": {},
   "outputs": [],
   "source": [
    "def get_data(folder_path, file1_name, file2_name):\n",
    "    # Initialize an empty dictionary\n",
    "    data = []\n",
    "\n",
    "    # Read the contents of both files and populate the dictionary\n",
    "    with open(f\"{folder_path}/{file1_name}\", 'r') as file1, open(f\"{folder_path}/{file2_name}\", 'r') as file2:\n",
    "        lines_file1 = file1.readlines()\n",
    "        lines_file2 = file2.readlines()\n",
    "\n",
    "        # Assuming both files have the same number of lines\n",
    "        for line1, line2 in zip(lines_file1, lines_file2):\n",
    "            if line1.strip() != '' and line2.strip() != '':\n",
    "                sentence1 = line1.strip()\n",
    "                sentence2 = line2.strip()\n",
    "                data.append((sentence1, sentence2))\n",
    "\n",
    "    return data"
   ]
  },
  {
   "cell_type": "code",
   "execution_count": 3,
   "metadata": {},
   "outputs": [],
   "source": [
    "train_data = get_data('translation_dataset/training', 'train.de', 'train.en')\n",
    "val_data = get_data('translation_dataset/validation/', 'val.de', 'val.en')\n",
    "test_data = get_data('translation_dataset/testing/', 'test.de', 'test.en')"
   ]
  },
  {
   "cell_type": "markdown",
   "metadata": {},
   "source": [
    "### Preprocessing The Data into Datapipes"
   ]
  },
  {
   "cell_type": "code",
   "execution_count": 4,
   "metadata": {},
   "outputs": [],
   "source": [
    "train_data = dp.iter.IterableWrapper(train_data)\n",
    "val_data = dp.iter.IterableWrapper(val_data)\n",
    "test_data = dp.iter.IterableWrapper(test_data)"
   ]
  },
  {
   "cell_type": "code",
   "execution_count": 5,
   "metadata": {},
   "outputs": [],
   "source": [
    "# Remove This Line\n",
    "train_data = test_data"
   ]
  },
  {
   "cell_type": "code",
   "execution_count": 6,
   "metadata": {},
   "outputs": [
    {
     "data": {
      "text/plain": [
       "('Ein Mädchen an einer Küste mit einem Berg im Hintergrund.',\n",
       " 'A girl at the shore of a beach with a mountain in the distance.')"
      ]
     },
     "execution_count": 6,
     "metadata": {},
     "output_type": "execute_result"
    }
   ],
   "source": [
    "list(test_data)[-1]"
   ]
  },
  {
   "cell_type": "code",
   "execution_count": 7,
   "metadata": {},
   "outputs": [],
   "source": [
    "spacy_de = spacy.load('/Users/arunreddy/opt/anaconda3/envs/NLP_PYTORCH/lib/python3.8/site-packages/spacy/data/de')\n",
    "spacy_en = spacy.load('/Users/arunreddy/opt/anaconda3/envs/NLP_PYTORCH/lib/python3.8/site-packages/spacy/data/en')"
   ]
  },
  {
   "cell_type": "code",
   "execution_count": 8,
   "metadata": {},
   "outputs": [],
   "source": [
    "def eng_tokenizer(text):\n",
    "    return [tok.text for tok in spacy_en(text)]\n",
    "\n",
    "def de_tokenizer(text):\n",
    "    return [tok.text for tok in spacy_de(text)]"
   ]
  },
  {
   "cell_type": "code",
   "execution_count": 9,
   "metadata": {},
   "outputs": [],
   "source": [
    "def getTokens(data_iter, place):\n",
    "    for german, english in data_iter:\n",
    "        if place == 0:\n",
    "            yield de_tokenizer(german)\n",
    "        else:\n",
    "            yield eng_tokenizer(english)"
   ]
  },
  {
   "cell_type": "markdown",
   "metadata": {},
   "source": [
    "### Building the vocabulary"
   ]
  },
  {
   "cell_type": "code",
   "execution_count": 10,
   "metadata": {},
   "outputs": [],
   "source": [
    "vocab_de = build_vocab_from_iterator(getTokens(train_data,0), min_freq=2, specials=[\"<sos>\", \"<eos>\", \"<unk>\", \"<pad>\"], special_first=True)\n",
    "vocab_en = build_vocab_from_iterator(getTokens(train_data,1), min_freq=2, specials=[\"<sos>\", \"<eos>\", \"<unk>\", \"<pad>\"], special_first=True)\n",
    "vocab_de.set_default_index(vocab_de[\"<unk>\"])\n",
    "vocab_en.set_default_index(vocab_en[\"<unk>\"])"
   ]
  },
  {
   "cell_type": "code",
   "execution_count": 11,
   "metadata": {},
   "outputs": [
    {
     "name": "stdout",
     "output_type": "stream",
     "text": [
      "['<sos>', '<eos>', '<unk>', '<pad>', '.', 'einem', 'Ein', 'in', 'auf', 'und']\n"
     ]
    }
   ],
   "source": [
    "print(vocab_de.get_itos()[:10])"
   ]
  },
  {
   "cell_type": "code",
   "execution_count": 12,
   "metadata": {},
   "outputs": [
    {
     "name": "stdout",
     "output_type": "stream",
     "text": [
      "['<sos>', '<eos>', '<unk>', '<pad>', 'a', '.', 'A', 'in', 'the', 'on']\n"
     ]
    }
   ],
   "source": [
    "print(vocab_en.get_itos()[:10])"
   ]
  },
  {
   "cell_type": "markdown",
   "metadata": {},
   "source": [
    "### Numericalize sentences using the vocabulary"
   ]
  },
  {
   "cell_type": "code",
   "execution_count": 13,
   "metadata": {},
   "outputs": [],
   "source": [
    "def getTransform(vocab, sentence):\n",
    "    sentence_transform = T.Sequential(\n",
    "        T.VocabTransform(vocab=vocab),\n",
    "        T.AddToken(0, begin=True),\n",
    "        T.AddToken(1, begin=False)\n",
    "    )\n",
    "    if (vocab==vocab_de):\n",
    "        tokenized_text =[tok.text for tok in spacy_de(sentence)]\n",
    "    else:\n",
    "        tokenized_text =[tok.text for tok in spacy_en(sentence)]\n",
    "    return sentence_transform(tokenized_text)"
   ]
  },
  {
   "cell_type": "code",
   "execution_count": 14,
   "metadata": {},
   "outputs": [],
   "source": [
    "def getInvTransform(vocab, sentence):\n",
    "    result = \"\"\n",
    "    for i in sentence:\n",
    "        result += vocab.get_itos()[i] + \" \"\n",
    "    return result"
   ]
  },
  {
   "cell_type": "code",
   "execution_count": 15,
   "metadata": {},
   "outputs": [],
   "source": [
    "sentence_de = list(train_data)[10][0]\n",
    "sentence_en = list(train_data)[10][1]"
   ]
  },
  {
   "cell_type": "code",
   "execution_count": 16,
   "metadata": {},
   "outputs": [
    {
     "data": {
      "text/plain": [
       "('Eine Mutter und ihr kleiner Sohn genießen einen schönen Tag im Freien.',\n",
       " 'A mother and her young song enjoying a beautiful day outside.')"
      ]
     },
     "execution_count": 16,
     "metadata": {},
     "output_type": "execute_result"
    }
   ],
   "source": [
    "sentence_de, sentence_en"
   ]
  },
  {
   "cell_type": "code",
   "execution_count": 17,
   "metadata": {},
   "outputs": [
    {
     "data": {
      "text/plain": [
       "[0, 14, 575, 9, 338, 87, 2, 694, 18, 348, 179, 17, 57, 4, 1]"
      ]
     },
     "execution_count": 17,
     "metadata": {},
     "output_type": "execute_result"
    }
   ],
   "source": [
    "getTransform(vocab_de, sentence_de)"
   ]
  },
  {
   "cell_type": "code",
   "execution_count": 18,
   "metadata": {},
   "outputs": [
    {
     "data": {
      "text/plain": [
       "[0, 6, 705, 10, 55, 26, 529, 302, 4, 359, 155, 49, 5, 1]"
      ]
     },
     "execution_count": 18,
     "metadata": {},
     "output_type": "execute_result"
    }
   ],
   "source": [
    "getTransform(vocab_en, sentence_en)"
   ]
  },
  {
   "cell_type": "code",
   "execution_count": 20,
   "metadata": {},
   "outputs": [],
   "source": [
    "def ApplyTransform(sequence_pair):\n",
    "\n",
    "    return (getTransform(vocab_de, sequence_pair[0]), getTransform(vocab_en, sequence_pair[1]))"
   ]
  },
  {
   "cell_type": "code",
   "execution_count": 21,
   "metadata": {},
   "outputs": [],
   "source": [
    "train_data_transformed = train_data.map(ApplyTransform)"
   ]
  },
  {
   "cell_type": "markdown",
   "metadata": {},
   "source": [
    "### Making Batches."
   ]
  },
  {
   "cell_type": "code",
   "execution_count": 22,
   "metadata": {},
   "outputs": [
    {
     "name": "stdout",
     "output_type": "stream",
     "text": [
      "('Ein Mann mit einem orangefarbenen Hut, der etwas anstarrt.', 'A man in an orange hat starring at something.')\n"
     ]
    }
   ],
   "source": [
    "for sample in train_data:\n",
    "    print(sample)\n",
    "    break"
   ]
  },
  {
   "cell_type": "code",
   "execution_count": 23,
   "metadata": {},
   "outputs": [
    {
     "name": "stdout",
     "output_type": "stream",
     "text": [
      "([0, 6, 11, 10, 5, 151, 225, 13, 20, 115, 2, 4, 1], [0, 6, 12, 7, 28, 94, 86, 2, 19, 134, 5, 1])\n"
     ]
    }
   ],
   "source": [
    "for sample in train_data_transformed:\n",
    "    print(sample)\n",
    "    break"
   ]
  },
  {
   "cell_type": "code",
   "execution_count": 24,
   "metadata": {},
   "outputs": [],
   "source": [
    "def sortBucket(bucket):\n",
    "    \"\"\"\n",
    "    Function to sort a given bucket. Here, we want to sort based on the length of\n",
    "    source and target sequence.\n",
    "    \"\"\"\n",
    "    return sorted(bucket, key=lambda x: (len(x[0]), len(x[1])))"
   ]
  },
  {
   "cell_type": "code",
   "execution_count": 25,
   "metadata": {},
   "outputs": [],
   "source": [
    "train_data_transformed = train_data_transformed.bucketbatch(\n",
    "    batch_size = 4, batch_num=5,  bucket_num=1,\n",
    "    use_in_batch_shuffle=False, sort_key=sortBucket\n",
    ")"
   ]
  },
  {
   "cell_type": "code",
   "execution_count": 26,
   "metadata": {},
   "outputs": [
    {
     "name": "stdout",
     "output_type": "stream",
     "text": [
      "[([0, 6, 44, 2, 17, 73, 4, 1], [0, 6, 47, 11, 530, 7, 8, 52, 1]), ([0, 6, 11, 347, 2, 25, 173, 4, 1], [0, 6, 12, 625, 2, 14, 212, 5, 1]), ([0, 58, 13, 22, 27, 5, 94, 49, 4, 1], [0, 58, 34, 49, 14, 4, 76, 5, 1]), ([0, 14, 2, 16, 36, 8, 5, 2, 4, 1], [0, 6, 2, 16, 108, 4, 2, 5, 1])]\n"
     ]
    }
   ],
   "source": [
    "for sample in train_data_transformed:\n",
    "    print(sample)\n",
    "    break"
   ]
  },
  {
   "cell_type": "code",
   "execution_count": 29,
   "metadata": {},
   "outputs": [],
   "source": [
    "# Generally, while training a model,\n",
    "# we predict on a batch of X and compare the result with y. \n",
    "# But, a batch in our data_pipe is of the form [(X_1,y_1), (X_2,y_2), (X_3,y_3), (X_4,y_4)]:\n",
    "# So, we will now convert them into the form: ((X_1,X_2,X_3,X_4), (y_1,y_2,y_3,y_4)). For this we will write a small function:"
   ]
  },
  {
   "cell_type": "code",
   "execution_count": 30,
   "metadata": {},
   "outputs": [],
   "source": [
    "def separateSourceTarget(sequence_pairs):\n",
    "    \"\"\"\n",
    "    input of form: `[(X_1,y_1), (X_2,y_2), (X_3,y_3), (X_4,y_4)]`\n",
    "    output of form: `((X_1,X_2,X_3,X_4), (y_1,y_2,y_3,y_4))`\n",
    "    \"\"\"\n",
    "    sources,targets = zip(*sequence_pairs)\n",
    "    return sources,targets"
   ]
  },
  {
   "cell_type": "code",
   "execution_count": 31,
   "metadata": {},
   "outputs": [],
   "source": [
    "train_data_transformed = train_data_transformed.map(separateSourceTarget)"
   ]
  },
  {
   "cell_type": "code",
   "execution_count": 32,
   "metadata": {},
   "outputs": [
    {
     "name": "stdout",
     "output_type": "stream",
     "text": [
      "([0, 93, 91, 140, 118, 8, 22, 2, 4, 1], [0, 315, 58, 106, 2, 70, 21, 2, 4, 1], [0, 254, 80, 49, 7, 242, 2, 8, 5, 583, 4, 1], [0, 6, 11, 40, 61, 2, 2, 7, 12, 256, 4, 1])\n",
      "\n",
      "\n",
      "([0, 45, 26, 122, 11, 48, 19, 8, 2, 5, 1], [0, 347, 24, 207, 107, 436, 67, 4, 2, 2, 5, 1], [0, 291, 113, 15, 34, 9, 4, 730, 7, 99, 2, 534, 5, 1], [0, 6, 12, 11, 34, 46, 4, 43, 14, 551, 2, 7, 4, 217, 5, 1])\n",
      "\n",
      "\n"
     ]
    }
   ],
   "source": [
    "for batch in train_data_transformed:\n",
    "    for sample in batch:\n",
    "        print(sample) \n",
    "        print(\"\\n\")\n",
    "    break"
   ]
  },
  {
   "cell_type": "markdown",
   "metadata": {},
   "source": [
    "### Making Padding"
   ]
  },
  {
   "cell_type": "code",
   "execution_count": 33,
   "metadata": {},
   "outputs": [],
   "source": [
    "def applyPadding(pair_of_sequences):\n",
    "    \"\"\"\n",
    "    Convert sequences to tensors and apply padding\n",
    "    \"\"\"\n",
    "    return (T.ToTensor(3)(list(pair_of_sequences[0])), T.ToTensor(3)(list(pair_of_sequences[1])))"
   ]
  },
  {
   "cell_type": "code",
   "execution_count": 34,
   "metadata": {},
   "outputs": [],
   "source": [
    "train_data_transformed = train_data_transformed.map(applyPadding)"
   ]
  },
  {
   "cell_type": "markdown",
   "metadata": {},
   "source": [
    "### Displaying The Final Processed Data Form"
   ]
  },
  {
   "cell_type": "code",
   "execution_count": 35,
   "metadata": {},
   "outputs": [
    {
     "name": "stdout",
     "output_type": "stream",
     "text": [
      "torch.Size([4, 13])\n",
      "torch.Size([4, 14])\n"
     ]
    }
   ],
   "source": [
    "for sources, targets in train_data_transformed:\n",
    "    print(sources.shape)\n",
    "    print(targets.shape)\n",
    "    break"
   ]
  },
  {
   "cell_type": "code",
   "execution_count": 36,
   "metadata": {},
   "outputs": [],
   "source": [
    "# Keep this in mind the loop variables in python can leak out."
   ]
  },
  {
   "cell_type": "code",
   "execution_count": 37,
   "metadata": {},
   "outputs": [
    {
     "name": "stdout",
     "output_type": "stream",
     "text": [
      "The source sample 0 is  <sos> Eine Frau in einem pinken Pulli und einer Schürze <unk> einen Tisch mit einem <unk> . <eos> <pad> <pad> <pad> \n",
      "The target sample 0 is  <sos> A woman in a pink sweater and an apron , <unk> a table with a <unk> . <eos> <pad> <pad> <pad> <pad> \n",
      "-----------------------------------------\n",
      "The source sample 1 is  <sos> Ein Mann drückt den Kopf eines anderen Mannes nach unten und <unk> ihm ins Gesicht <unk> . <eos> <pad> <pad> \n",
      "The target sample 1 is  <sos> One man holds another man 's head down and prepares to <unk> him in the face . <eos> <pad> <pad> <pad> <pad> \n",
      "-----------------------------------------\n",
      "The source sample 2 is  <sos> Drei Leute sitzen an einem Picknicktisch vor einem Gebäude , das wie der <unk> <unk> <unk> ist . <eos> <pad> \n",
      "The target sample 2 is  <sos> Three people sit at a picnic table outside of a building painted like a <unk> <unk> . <eos> <pad> <pad> <pad> <pad> \n",
      "-----------------------------------------\n",
      "The source sample 3 is  <sos> Ein Angestellter reicht einer Frau auf einem Markt eine <unk> , während sie auf Eis <unk> Fisch <unk> . <eos> \n",
      "The target sample 3 is  <sos> An employee is <unk> a woman a bag while she is <unk> through fish on ice at a street market . <eos> \n",
      "-----------------------------------------\n"
     ]
    }
   ],
   "source": [
    "for sources, targets in train_data_transformed:\n",
    "    batch_size = sources.shape[0]\n",
    "    for i in range(batch_size):\n",
    "        source = sources[i]\n",
    "        target = targets[i]\n",
    "        source_sentence = getInvTransform(vocab_de, source.numpy())\n",
    "        target_sentence = getInvTransform(vocab_en, target.numpy())\n",
    "        print(f\"The source sample {i} is \", source_sentence)\n",
    "        print(f\"The target sample {i} is \", target_sentence)\n",
    "        print(\"-----------------------------------------\")\n",
    "    break"
   ]
  },
  {
   "cell_type": "markdown",
   "metadata": {},
   "source": [
    "### Finally Data Preprocessing is Done."
   ]
  },
  {
   "cell_type": "code",
   "execution_count": 38,
   "metadata": {},
   "outputs": [],
   "source": [
    "class Encoder(nn.Module):\n",
    "    def __init__ (self, enc_vocab_size, enc_embedding_size, enc_hid_dim,dec_hid_dim, enc_n_layers, dec_n_layers, enc_drop):\n",
    "        super(Encoder, self).__init__()\n",
    "\n",
    "        self.embedding = nn.Embedding(enc_vocab_size, enc_embedding_size)\n",
    "        self.rnn = nn.LSTM(enc_embedding_size, enc_hid_dim, enc_n_layers, batch_first=True, bidirectional=True)\n",
    "        self.fc_hidden = nn.Linear(enc_hid_dim*2, dec_hid_dim)\n",
    "        self.fc_cell = nn.Linear(enc_hid_dim*2, dec_hid_dim)\n",
    "        self.dec_n_layers = dec_n_layers\n",
    "        self.dropout = nn.Dropout(enc_drop)\n",
    "        self.relu = nn.ReLU()\n",
    "\n",
    "    def forward(self, x):\n",
    "        # x->(N, L)\n",
    "        embedded = self.dropout(self.embedding(x))\n",
    "\n",
    "        # embedded-> (N, L, H_enc_em)\n",
    "\n",
    "        output, (hidden, cell) = self.rnn(embedded)\n",
    "\n",
    "        # output->(N, L, 2*enc_hid_dim)\n",
    "        # hidden, cell->(2*enc_n_layers,N,enc_hid_dim)\n",
    "\n",
    "        context_hidden = torch.cat((hidden[-2,:,:], hidden[-1,:,:]), dim=1)\n",
    "\n",
    "        context_cell = torch.cat((cell[-2,:,:], cell[-1,:,:]), dim=1)\n",
    "\n",
    "        # context_hidden->(N, enc_hid_dim*2)\n",
    "        # context_cell->(N, enc_hid_dim*2)\n",
    "\n",
    "        init_dec_hidden = self.relu(self.fc_hidden(context_hidden)).unsqueeze(0).repeat(self.dec_n_layers, 1,1)\n",
    "\n",
    "        init_dec_cell = self.relu(self.fc_cell(context_cell)).unsqueeze(0).repeat(self.dec_n_layers, 1, 1)\n",
    "\n",
    "        # init_dec_hidden, init_dec_cell->(dec_n_layers, N, dec_hid_dim)\n",
    "\n",
    "        return output, init_dec_hidden, init_dec_cell"
   ]
  },
  {
   "cell_type": "code",
   "execution_count": 39,
   "metadata": {},
   "outputs": [
    {
     "data": {
      "text/plain": [
       "(torch.Size([10, 12, 256]), torch.Size([5, 10, 128]), torch.Size([5, 10, 128]))"
      ]
     },
     "execution_count": 39,
     "metadata": {},
     "output_type": "execute_result"
    }
   ],
   "source": [
    "encoder = Encoder(13, 18, 128, 128,5, 5,0.1)\n",
    "inputs = torch.randint(0,13, (10, 12))\n",
    "output, init_dec_hidden, init_dec_cell = encoder(inputs)\n",
    "output.shape, init_dec_hidden.shape, init_dec_cell.shape"
   ]
  },
  {
   "cell_type": "code",
   "execution_count": 40,
   "metadata": {},
   "outputs": [],
   "source": [
    "class BahdanauAttention(nn.Module):\n",
    "    def __init__(self, enc_hid_dim, dec_hid_dim):\n",
    "        super(BahdanauAttention, self).__init__()\n",
    "        self.W = nn.Linear(2*enc_hid_dim+dec_hid_dim+dec_hid_dim, dec_hid_dim, bias=False)\n",
    "        self.v = nn.Linear(dec_hid_dim, 1, bias=False)\n",
    "\n",
    "    def forward(self, enc_hidden_states, prev_dec_hidden_state, prev_dec_cell_state):\n",
    "        \n",
    "        # enc_hidden_states -> (N, L, 2*enc_hid_dim)\n",
    "        # prev_dec_hidden_state -> (dec_n_layers, N, dec_hid_dim)\n",
    "        # prev_dec_cell_state -> (dec_n_layers, N, dec_hid_dim)\n",
    "\n",
    "        seq_length = enc_hidden_states.shape[1]\n",
    "        prev_dec_hidden_context = prev_dec_hidden_state[-1].unsqueeze(1).repeat(1, seq_length, 1)\n",
    "        prev_dec_cell_context = prev_dec_cell_state[-1].unsqueeze(1).repeat(1, seq_length, 1)\n",
    "\n",
    "        # prev_dec_hidden_context -> (N, L, dec_hid_dim)\n",
    "        # prev_dec_cell_context -> (N, L, dec_hid_dim)\n",
    "\n",
    "        combined_state = torch.cat((enc_hidden_states, prev_dec_hidden_context, prev_dec_cell_context), dim=2)\n",
    "\n",
    "        # combined_state -> (N, L, 2*enc_hid_dim + dec_hid_dim + dec_hid_dim)\n",
    "\n",
    "        un_norm_attn_scores = self.v(self.W(combined_state))\n",
    "\n",
    "        # un_norm_attn_scores -> (N, L, 1)\n",
    "\n",
    "        return F.softmax(un_norm_attn_scores.squeeze(2), dim=1) # -> (N, L)"
   ]
  },
  {
   "cell_type": "code",
   "execution_count": 41,
   "metadata": {},
   "outputs": [],
   "source": [
    "attn = BahdanauAttention(128, 128)\n",
    "enc_hidden_states = torch.randn(10, 12, 2*128)\n",
    "prev_dec_hidden_state = torch.randn(5, 10, 128)\n",
    "prev_dec_cell_state = torch.randn(5, 10, 128)\n",
    "scores = attn(enc_hidden_states, prev_dec_hidden_state, prev_dec_cell_state)"
   ]
  },
  {
   "cell_type": "code",
   "execution_count": 42,
   "metadata": {},
   "outputs": [
    {
     "data": {
      "text/plain": [
       "torch.Size([10, 12])"
      ]
     },
     "execution_count": 42,
     "metadata": {},
     "output_type": "execute_result"
    }
   ],
   "source": [
    "scores.shape"
   ]
  },
  {
   "cell_type": "code",
   "execution_count": 43,
   "metadata": {},
   "outputs": [],
   "source": [
    "class Decoder(nn.Module):\n",
    "    def __init__(self, output_dim, dec_hid_dim, dec_n_layers, enc_hid_dim, input_dim, dec_embedding_size, dec_drop, attention):\n",
    "        super(Decoder, self).__init__()\n",
    "\n",
    "        self.attention = attention\n",
    "        self.dropout = nn.Dropout(dec_drop)\n",
    "        self.output_dim = output_dim\n",
    "\n",
    "        self.embedding = nn.Embedding(input_dim, dec_embedding_size)\n",
    "        self.rnn = nn.LSTM(2*enc_hid_dim+dec_embedding_size, dec_hid_dim, dec_n_layers,batch_first=True)\n",
    "        self.fc_out = nn.Linear(2*enc_hid_dim+dec_embedding_size+dec_hid_dim, output_dim)\n",
    "\n",
    "    def forward (self, input, prev_dec_hidden_state, prev_dec_cell_state, enc_hidden_states):\n",
    "\n",
    "        # input -> (N, 1)\n",
    "        # prev_dec_hidden_state = prev_dec_cell_state -> (dec_n_layers, N, dec_hid_dim)\n",
    "        # enc_hidden_states -> (N, L, 2*enc_hid_dim)\n",
    "\n",
    "        embedded = self.dropout(self.embedding(input))\n",
    "        # embedded->(N, 1, dec_embedding_size)\n",
    "        \n",
    "        # calculating the context vector.\n",
    "        attn_scores = self.attention(enc_hidden_states, prev_dec_hidden_state, prev_dec_cell_state)\n",
    "\n",
    "        # attn_scores->(N, L)\n",
    "        context_vector = torch.bmm(attn_scores.unsqueeze(1), enc_hidden_states)\n",
    "\n",
    "        # context_vector-> (N, 1, 2*enc_hid_dim)\n",
    "\n",
    "        rnn_input = torch.cat((embedded, context_vector), dim=2)\n",
    "        # rnn_input->(N, 1, 2*enc_hid_dim+dec_embedding_size)\n",
    "\n",
    "        output, (hidden, cell) = self.rnn(rnn_input, (prev_dec_hidden_state, prev_dec_cell_state))\n",
    "\n",
    "        # output->(N, 1, dec_hid_dim)\n",
    "        # hidden = cell->(dec_n_layers, N, dec_hid_dim)\n",
    "\n",
    "\n",
    "        prediction = self.fc_out(torch.cat((embedded, context_vector, output), dim=2).squeeze(1))\n",
    "        # prediction->(N, output_dim)\n",
    "\n",
    "        return prediction, (hidden, cell)"
   ]
  },
  {
   "cell_type": "code",
   "execution_count": 44,
   "metadata": {},
   "outputs": [
    {
     "data": {
      "text/plain": [
       "274"
      ]
     },
     "execution_count": 44,
     "metadata": {},
     "output_type": "execute_result"
    }
   ],
   "source": [
    "256+18"
   ]
  },
  {
   "cell_type": "code",
   "execution_count": 45,
   "metadata": {},
   "outputs": [],
   "source": [
    "decoder = Decoder(200, 128, 5, 128, 200, 18, 0.2, attn)\n",
    "input = torch.randint(0, 200, (10,1))\n",
    "prediction, (hidden, cell) = decoder(input, prev_dec_hidden_state, prev_dec_cell_state, enc_hidden_states)"
   ]
  },
  {
   "cell_type": "code",
   "execution_count": 46,
   "metadata": {},
   "outputs": [
    {
     "data": {
      "text/plain": [
       "(torch.Size([10, 200]), torch.Size([5, 10, 128]), torch.Size([5, 10, 128]))"
      ]
     },
     "execution_count": 46,
     "metadata": {},
     "output_type": "execute_result"
    }
   ],
   "source": [
    "prediction.shape, hidden.shape, cell.shape"
   ]
  },
  {
   "cell_type": "code",
   "execution_count": 47,
   "metadata": {},
   "outputs": [],
   "source": [
    "class Seq2Seq(nn.Module):\n",
    "    def __init__(self, encoder, decoder):\n",
    "        super(Seq2Seq, self).__init__()\n",
    "\n",
    "        self.encoder = encoder\n",
    "        self.decoder = decoder\n",
    "\n",
    "    def forward(self, src, trg, teacher_force_ratio):\n",
    "\n",
    "        # src->(N, L)\n",
    "        # trg->(N, L')\n",
    "\n",
    "        batch_size = src.shape[0]\n",
    "        trg_len = trg.shape[1]\n",
    "        dec_outputs = torch.zeros(trg_len, batch_size, self.decoder.output_dim)\n",
    "        output, init_dec_hidden, init_dec_cell = self.encoder(src)\n",
    "\n",
    "        input = trg[:, 0]\n",
    "\n",
    "        for t in range(1, trg_len):\n",
    "            prediction, (hidden, cell) = self.decoder(input.unsqueeze(1), init_dec_hidden, init_dec_cell, output)\n",
    "            # prediction->(N->output_dim)\n",
    "            # hidden = cell -> (dec_n_layers, N, dec_hid_dim)\n",
    "            dec_outputs[t] = prediction\n",
    "            teacher_force = random.random() < teacher_force_ratio\n",
    "            top1 = prediction.argmax(1)\n",
    "            input = trg[:, t] if teacher_force else top1\n",
    "\n",
    "        return dec_outputs.permute(1,0,2) #-> (N, L, output_dim)"
   ]
  },
  {
   "cell_type": "code",
   "execution_count": 48,
   "metadata": {},
   "outputs": [],
   "source": [
    "s2s = Seq2Seq(encoder, decoder)\n",
    "dec_outputs = s2s(torch.randint(0,5,(10,14)), torch.randint(0,5,(10,25)), 0.5)"
   ]
  },
  {
   "cell_type": "code",
   "execution_count": 49,
   "metadata": {},
   "outputs": [
    {
     "data": {
      "text/plain": [
       "torch.Size([10, 25, 200])"
      ]
     },
     "execution_count": 49,
     "metadata": {},
     "output_type": "execute_result"
    }
   ],
   "source": [
    "dec_outputs.shape"
   ]
  },
  {
   "cell_type": "code",
   "execution_count": null,
   "metadata": {},
   "outputs": [],
   "source": []
  },
  {
   "cell_type": "code",
   "execution_count": 50,
   "metadata": {},
   "outputs": [],
   "source": [
    "enc_vocab_size = len(vocab_de.get_itos())\n",
    "enc_embedding_size = 25\n",
    "enc_hid_dim = 25\n",
    "dec_hid_dim = 25\n",
    "enc_n_layers = 1\n",
    "dec_n_layers = 1\n",
    "enc_drop = 0.5\n",
    "output_dim = len(vocab_en.get_itos())\n",
    "input_dim = len(vocab_en.get_itos())\n",
    "dec_embedding_size = 25\n",
    "dec_drop = 0.5\n",
    "dec_n_layers = 1\n",
    "actual_encoder = Encoder(enc_vocab_size, enc_embedding_size, enc_hid_dim, dec_hid_dim, enc_n_layers, dec_n_layers, enc_drop)\n",
    "actual_attn = BahdanauAttention(enc_hid_dim, dec_hid_dim)\n",
    "actual_decoder = Decoder(output_dim, dec_hid_dim, dec_n_layers, enc_hid_dim, input_dim, dec_embedding_size, dec_drop, actual_attn)\n",
    "actual_s2s = Seq2Seq(actual_encoder, actual_decoder)"
   ]
  },
  {
   "cell_type": "code",
   "execution_count": 51,
   "metadata": {},
   "outputs": [],
   "source": [
    "optimizer = optim.Adam(actual_s2s.parameters())\n",
    "criterion = nn.CrossEntropyLoss(ignore_index=vocab_en.get_stoi()[\"<pad>\"])"
   ]
  },
  {
   "cell_type": "code",
   "execution_count": 52,
   "metadata": {},
   "outputs": [],
   "source": [
    "def train(model, iterator, optimizer, criterion):\n",
    "    model.train()\n",
    "\n",
    "    epoch_loss = 0\n",
    "\n",
    "    for i, batch in tqdm(enumerate(iterator)):\n",
    "        \n",
    "        optimizer.zero_grad()\n",
    "        source = batch[0] # -> (N, L)\n",
    "        target = batch[1] # -> (N, L')\n",
    "\n",
    "        predictions = model(source, target, 0.5) #-> (N, L', output_dim)\n",
    "        \n",
    "        target = target[:, 1:].reshape(-1) # -> (N, L'-1) -> (N*(L'-1))\n",
    "        predictions = predictions[:,1:,:].reshape(-1, output_dim) #-> (N, L', output_dim) -> (N*(L'-1), output_dim)\n",
    "\n",
    "        loss = criterion(predictions, target)\n",
    "\n",
    "        loss.backward()\n",
    "\n",
    "        optimizer.step()\n",
    "\n",
    "        epoch_loss += loss.item()\n",
    "\n",
    "    print(epoch_loss/i)"
   ]
  },
  {
   "cell_type": "code",
   "execution_count": 53,
   "metadata": {},
   "outputs": [
    {
     "name": "stderr",
     "output_type": "stream",
     "text": [
      "250it [00:16, 15.00it/s]\n"
     ]
    },
    {
     "name": "stdout",
     "output_type": "stream",
     "text": [
      "5.2009725781329665\n"
     ]
    },
    {
     "name": "stderr",
     "output_type": "stream",
     "text": [
      "250it [00:15, 15.81it/s]\n"
     ]
    },
    {
     "name": "stdout",
     "output_type": "stream",
     "text": [
      "4.603021787352351\n"
     ]
    },
    {
     "name": "stderr",
     "output_type": "stream",
     "text": [
      "250it [00:16, 15.36it/s]\n"
     ]
    },
    {
     "name": "stdout",
     "output_type": "stream",
     "text": [
      "4.4815530566326585\n"
     ]
    },
    {
     "name": "stderr",
     "output_type": "stream",
     "text": [
      "250it [00:16, 14.90it/s]\n"
     ]
    },
    {
     "name": "stdout",
     "output_type": "stream",
     "text": [
      "4.374613053348648\n"
     ]
    },
    {
     "name": "stderr",
     "output_type": "stream",
     "text": [
      "250it [00:17, 14.56it/s]\n"
     ]
    },
    {
     "name": "stdout",
     "output_type": "stream",
     "text": [
      "4.293427253822725\n"
     ]
    },
    {
     "name": "stderr",
     "output_type": "stream",
     "text": [
      "250it [00:17, 14.52it/s]\n"
     ]
    },
    {
     "name": "stdout",
     "output_type": "stream",
     "text": [
      "4.220458491260268\n"
     ]
    },
    {
     "name": "stderr",
     "output_type": "stream",
     "text": [
      "250it [00:17, 14.37it/s]\n"
     ]
    },
    {
     "name": "stdout",
     "output_type": "stream",
     "text": [
      "4.162144240605304\n"
     ]
    },
    {
     "name": "stderr",
     "output_type": "stream",
     "text": [
      "250it [00:17, 14.24it/s]\n"
     ]
    },
    {
     "name": "stdout",
     "output_type": "stream",
     "text": [
      "4.105428957077394\n"
     ]
    },
    {
     "name": "stderr",
     "output_type": "stream",
     "text": [
      "250it [00:17, 14.20it/s]\n"
     ]
    },
    {
     "name": "stdout",
     "output_type": "stream",
     "text": [
      "4.055018787881935\n"
     ]
    },
    {
     "name": "stderr",
     "output_type": "stream",
     "text": [
      "250it [00:17, 14.06it/s]"
     ]
    },
    {
     "name": "stdout",
     "output_type": "stream",
     "text": [
      "3.9810871321513472\n"
     ]
    },
    {
     "name": "stderr",
     "output_type": "stream",
     "text": [
      "\n"
     ]
    }
   ],
   "source": [
    "for i in range(10):\n",
    "    train(actual_s2s, train_data_transformed, optimizer, criterion)"
   ]
  },
  {
   "cell_type": "code",
   "execution_count": 54,
   "metadata": {},
   "outputs": [],
   "source": [
    "list = [5.2009725781329665, 4.603021787352351, 4.4815530566326585, 4.374613053348648, 4.293427253822725, 4.220458491260268\n",
    ", 4.162144240605304\n",
    ", 4.105428957077394\n",
    ", 4.055018787881935\n",
    ", 3.9810871321513472]"
   ]
  },
  {
   "cell_type": "code",
   "execution_count": 55,
   "metadata": {},
   "outputs": [],
   "source": [
    "import matplotlib.pyplot as ply"
   ]
  },
  {
   "cell_type": "code",
   "execution_count": 56,
   "metadata": {},
   "outputs": [
    {
     "data": {
      "text/plain": [
       "[<matplotlib.lines.Line2D at 0x7f97401fda30>]"
      ]
     },
     "execution_count": 56,
     "metadata": {},
     "output_type": "execute_result"
    },
    {
     "data": {
      "image/png": "[encoded data removed]",
      "text/plain": [
       "<Figure size 640x480 with 1 Axes>"
      ]
     },
     "metadata": {},
     "output_type": "display_data"
    }
   ],
   "source": [
    "ply.plot(list)"
   ]
  },
  {
   "cell_type": "code",
   "execution_count": null,
   "metadata": {},
   "outputs": [],
   "source": []
  }
 ],
 "metadata": {
  "kernelspec": {
   "display_name": "NLP_PYTORCH",
   "language": "python",
   "name": "python3"
  },
  "language_info": {
   "codemirror_mode": {
    "name": "ipython",
    "version": 3
   },
   "file_extension": ".py",
   "mimetype": "text/x-python",
   "name": "python",
   "nbconvert_exporter": "python",
   "pygments_lexer": "ipython3",
   "version": "3.8.18"
  }
 },
 "nbformat": 4,
 "nbformat_minor": 2
}
