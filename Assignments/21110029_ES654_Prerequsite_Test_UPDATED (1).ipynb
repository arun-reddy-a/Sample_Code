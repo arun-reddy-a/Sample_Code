{
 "cells": [
  {
   "cell_type": "markdown",
   "id": "7aa44cd3",
   "metadata": {},
   "source": [
    "#                                            ES654 Prerequsite test\n",
    "####                                                                             Anugu Arun Reddy (21110029)"
   ]
  },
  {
   "cell_type": "markdown",
   "id": "2c687fc9",
   "metadata": {},
   "source": [
    "### Question 1\n",
    "\n",
    "\n",
    "    \n",
    "While multiplying 2 matrices A (nxk) and B (kxm), in order to get C (nxm).\n",
    "\n",
    "Total number of multiplications required = $k*m*n$.\n",
    "\n",
    "Total number of additions required = $(k-1)*m*n$.\n",
    "\n",
    "Explaination is given below.</b>"
   ]
  },
  {
   "cell_type": "markdown",
   "id": "1888b421",
   "metadata": {},
   "source": [
    "$ A_(nxk) * B_(kxm) = C_(nxm) $"
   ]
  },
  {
   "cell_type": "markdown",
   "id": "a15a3d61",
   "metadata": {},
   "source": [
    "\n",
    "In order to get $C_(ij)$, we mutiply and add the corresponding elements of ith row of A and jth coloumn of B. There are k elements in both of them, thus we need k number of multiplications, and k-1 number of additions (1 addition is required to add 2 numbers). And we are supposed to find $m*n$ such entries of matrix C. Hence we need total of \n",
    "$ k*m*n $ number of multiplications and $(k-1)*m*n$ number of additions."
   ]
  },
  {
   "cell_type": "markdown",
   "id": "eead4099",
   "metadata": {},
   "source": [
    "### Question 2"
   ]
  },
  {
   "cell_type": "markdown",
   "id": "9331551f",
   "metadata": {},
   "source": [
    "Choosing matrices arbitrary matrices A and B. "
   ]
  },
  {
   "cell_type": "code",
   "execution_count": 2,
   "id": "6e0adc1b",
   "metadata": {},
   "outputs": [
    {
     "name": "stdout",
     "output_type": "stream",
     "text": [
      "[[3759, 7794, 7885], [5836, 11495, 10915], [2255, 2904, 3389], [10179, 12580, 12517]]\n"
     ]
    }
   ],
   "source": [
    "\n",
    "\n",
    "A = [[12,23,44,21,45],[11,34,67,23,88],[10,9,8,3,71],[18,98,23,39,31]]\n",
    "B = [[3,19,99],[89,78,61],[13,90,73],[14,52,67],[18,16,15]]\n",
    "C = [[0,0,0],[0,0,0],[0,0,0],[0,0,0]]\n",
    "\n",
    "\n",
    "\n",
    "\n",
    "\n",
    "for i in range(len(A)):\n",
    "    for j in range(len(B[0])):\n",
    "        result = 0\n",
    "        for l in range(len(A[0])):\n",
    "            result += A[i][l]*B[l][j]\n",
    "        C[i][j] = result\n",
    "        \n",
    "\n",
    "\n",
    "\n",
    "\n",
    "print(C)"
   ]
  },
  {
   "cell_type": "code",
   "execution_count": 3,
   "id": "4e51fc8a",
   "metadata": {},
   "outputs": [
    {
     "name": "stdout",
     "output_type": "stream",
     "text": [
      "12.9 µs ± 47.4 ns per loop (mean ± std. dev. of 7 runs, 100,000 loops each)\n"
     ]
    }
   ],
   "source": [
    "%%timeit\n",
    "\n",
    "A = [[12,23,44,21,45],[11,34,67,23,88],[10,9,8,3,71],[18,98,23,39,31]]\n",
    "B = [[3,19,99],[89,78,61],[13,90,73],[14,52,67],[18,16,15]]\n",
    "C = [[0,0,0],[0,0,0],[0,0,0],[0,0,0]]\n",
    "\n",
    "\n",
    "\n",
    "\n",
    "\n",
    "for i in range(len(A)):\n",
    "    for j in range(len(B[0])):\n",
    "        result = 0\n",
    "        for l in range(len(A[0])):\n",
    "            result += A[i][l]*B[l][j]\n",
    "        C[i][j] = result\n",
    "        \n",
    "\n",
    "\n",
    "\n",
    "\n"
   ]
  },
  {
   "cell_type": "code",
   "execution_count": 4,
   "id": "8ea5f8f9",
   "metadata": {},
   "outputs": [],
   "source": [
    "import numpy as np"
   ]
  },
  {
   "cell_type": "code",
   "execution_count": 5,
   "id": "6b4b4653",
   "metadata": {},
   "outputs": [
    {
     "name": "stdout",
     "output_type": "stream",
     "text": [
      "[[ 3759  7794  7885]\n",
      " [ 5836 11495 10915]\n",
      " [ 2255  2904  3389]\n",
      " [10179 12580 12517]]\n"
     ]
    }
   ],
   "source": [
    "\n",
    "\n",
    "\n",
    "\n",
    "A = np.array([[12,23,44,21,45],[11,34,67,23,88],[10,9,8,3,71],[18,98,23,39,31]])\n",
    "B = np.array([[3,19,99],[89,78,61],[13,90,73],[14,52,67],[18,16,15]])\n",
    "C = np.array([[0,0,0],[0,0,0],[0,0,0],[0,0,0]])\n",
    "\n",
    "\n",
    "\n",
    "C = np.dot(A,B)\n",
    "\n",
    "\n",
    "print(C)"
   ]
  },
  {
   "cell_type": "code",
   "execution_count": 6,
   "id": "d28d6809",
   "metadata": {},
   "outputs": [
    {
     "name": "stdout",
     "output_type": "stream",
     "text": [
      "9.86 µs ± 202 ns per loop (mean ± std. dev. of 7 runs, 100,000 loops each)\n"
     ]
    }
   ],
   "source": [
    "%%timeit\n",
    "\n",
    "\n",
    "\n",
    "A = np.array([[12,23,44,21,45],[11,34,67,23,88],[10,9,8,3,71],[18,98,23,39,31]])\n",
    "B = np.array([[3,19,99],[89,78,61],[13,90,73],[14,52,67],[18,16,15]])\n",
    "C = np.array([[0,0,0],[0,0,0],[0,0,0],[0,0,0]])\n",
    "\n",
    "\n",
    "\n",
    "C = np.dot(A,B)\n",
    "\n",
    "\n"
   ]
  },
  {
   "cell_type": "markdown",
   "id": "8ff0715a",
   "metadata": {},
   "source": [
    "<b>We get the same answer with both the methods</b>"
   ]
  },
  {
   "cell_type": "markdown",
   "id": "f75fa25b",
   "metadata": {},
   "source": [
    "<b>Numpy implementation is faster than list implementation. Numpy is faster because of better memory management, that allows parallel operations on the data. Numpy arrays store elements of simgle datatype. Numpy library is written using C and C++, which allows elements of list to be stored in continuous blocks of memory unlike python, this also improves processing time.</b>"
   ]
  },
  {
   "cell_type": "markdown",
   "id": "a5eed3cb",
   "metadata": {},
   "source": [
    "### Question 3"
   ]
  },
  {
   "cell_type": "markdown",
   "id": "2a079299",
   "metadata": {},
   "source": [
    "<b>Time complexity of method given in the question is O($n^2$).\n",
    "\n",
    "<b>Finding the median involves finding (floor(n/2)+1)th largest element if n is odd and mean of (n/2)th and ((n/2)+1)th element if n is even. overall first we need to find ((n/2)+1)th largest element. This would need atleast ((n/2)+1) passes of the array. In each pass of the array we need to make atleast (n-1) comparisions between n elements. Therefore total number of operations is of the order ((n/2)+1)*(n-1) which gives us time complexity of O($n^2$).</b>"
   ]
  },
  {
   "cell_type": "markdown",
   "id": "b3e216a6",
   "metadata": {},
   "source": [
    "<b>A better method would be to first sort the array with O($n(log(n)$) time complexity and finding the median would be done in constant time."
   ]
  },
  {
   "cell_type": "code",
   "execution_count": 7,
   "id": "e569b44f",
   "metadata": {},
   "outputs": [
    {
     "name": "stdout",
     "output_type": "stream",
     "text": [
      "412\n"
     ]
    }
   ],
   "source": [
    "# method given in the question\n",
    "\n",
    "def largest(arr,n):\n",
    "   # Initialize maximum element\n",
    "   mx = arr[0]        \n",
    "   \n",
    "   # Traverse array elements from second         \n",
    "   # and compare every element with          \n",
    "   # current max         \n",
    "   for i in range(1, n):         \n",
    "     if arr[i] > mx:         \n",
    "         mx = arr[i]  \n",
    "    \n",
    "    \n",
    "   return mx\n",
    "\n",
    "def find_kth_largest (arr,n,k):\n",
    "    for i in range(1,k+1):\n",
    "        k_th_largest = largest(arr,n)\n",
    "        arr.remove(k_th_largest)\n",
    "        n = n-1\n",
    "        \n",
    "    return k_th_largest\n",
    "\n",
    "x = [10,5,4,1,11,1413,1241,12,412,1214,2124,314,134,11,434,553,135,1341,134,1134,5131,13413,1241,134,111,412,412434,41,23,1231,32131,3213,4,13535,5365,76,8,87587,8]\n",
    "\n",
    "\n",
    "\n",
    "\n",
    "def calculate_median(arr,n):\n",
    "    if (n%2==0):\n",
    "        return ((find_kth_largest(x.copy(),len(x),n//2)) + ((find_kth_largest(x.copy(),len(x),(n//2)+1))))/2\n",
    "    else:\n",
    "        return (find_kth_largest(x.copy(),len(x),(n//2)+1))\n",
    "                \n",
    "print(calculate_median(x,len(x)))"
   ]
  },
  {
   "cell_type": "code",
   "execution_count": 8,
   "id": "56b62c77",
   "metadata": {},
   "outputs": [
    {
     "name": "stdout",
     "output_type": "stream",
     "text": [
      "37.5 µs ± 143 ns per loop (mean ± std. dev. of 7 runs, 10,000 loops each)\n"
     ]
    }
   ],
   "source": [
    "%%timeit\n",
    "\n",
    "\n",
    "k = (calculate_median(x,len(x)))"
   ]
  },
  {
   "cell_type": "code",
   "execution_count": 9,
   "id": "cb918f86",
   "metadata": {},
   "outputs": [
    {
     "name": "stdout",
     "output_type": "stream",
     "text": [
      "412\n"
     ]
    }
   ],
   "source": [
    "# finding median after sorting\n",
    "\n",
    "def mergeSort(array):\n",
    "    if len(array) > 1:\n",
    "\n",
    "        \n",
    "        r = len(array)//2\n",
    "        L = array[:r]\n",
    "        M = array[r:]\n",
    "\n",
    "       \n",
    "        mergeSort(L)\n",
    "        mergeSort(M)\n",
    "\n",
    "        i = j = k = 0\n",
    "\n",
    "        while i < len(L) and j < len(M):\n",
    "            if L[i] < M[j]:\n",
    "                array[k] = L[i]\n",
    "                i += 1\n",
    "            else:\n",
    "                array[k] = M[j]\n",
    "                j += 1\n",
    "            k += 1\n",
    "\n",
    "     \n",
    "        while i < len(L):\n",
    "            array[k] = L[i]\n",
    "            i += 1\n",
    "            k += 1\n",
    "\n",
    "        while j < len(M):\n",
    "            array[k] = M[j]\n",
    "            j += 1\n",
    "            k += 1\n",
    "\n",
    "def find_median (array):\n",
    "    mergeSort(array)\n",
    "    \n",
    "    if (len(array)%2==0):\n",
    "        return (array[(len(array)//2)]+array[(len(array)//2)-1])/2\n",
    "    else:\n",
    "        return array[(len(array)//2)]\n",
    "\n",
    "x = [10,5,4,1,11,1413,1241,12,412,1214,2124,314,134,11,434,553,135,1341,134,1134,5131,13413,1241,134,111,412,412434,41,23,1231,32131,3213,4,13535,5365,76,8,87587,8]\n",
    "\n",
    "\n",
    "\n",
    "print(find_median(x))\n",
    "\n",
    "\n"
   ]
  },
  {
   "cell_type": "code",
   "execution_count": 10,
   "id": "ed4f6bc2",
   "metadata": {},
   "outputs": [
    {
     "name": "stdout",
     "output_type": "stream",
     "text": [
      "57.2 µs ± 264 ns per loop (mean ± std. dev. of 7 runs, 10,000 loops each)\n"
     ]
    }
   ],
   "source": [
    "%%timeit\n",
    "\n",
    "z = find_median(x)"
   ]
  },
  {
   "cell_type": "code",
   "execution_count": 11,
   "id": "15f12784",
   "metadata": {},
   "outputs": [],
   "source": [
    "x = np.array(x)"
   ]
  },
  {
   "cell_type": "code",
   "execution_count": 12,
   "id": "b5827c26",
   "metadata": {},
   "outputs": [
    {
     "name": "stdout",
     "output_type": "stream",
     "text": [
      "12 µs ± 152 ns per loop (mean ± std. dev. of 7 runs, 100,000 loops each)\n"
     ]
    }
   ],
   "source": [
    "%%timeit\n",
    "\n",
    "\n",
    "z = (np.median(x))\n",
    "\n"
   ]
  },
  {
   "cell_type": "markdown",
   "id": "7c9c2c5a",
   "metadata": {},
   "source": [
    "<b>For large arrays numpy takes much less time than both sorting and looping through the array approach.</b>"
   ]
  },
  {
   "cell_type": "markdown",
   "id": "6f343d8c",
   "metadata": {},
   "source": [
    "### Question 4"
   ]
  },
  {
   "cell_type": "markdown",
   "id": "0afc2157",
   "metadata": {},
   "source": [
    "$ f(x,y) = x^2y + y^3sin(x) $"
   ]
  },
  {
   "cell_type": "markdown",
   "id": "510e64ae",
   "metadata": {},
   "source": [
    "$ \\frac{\\partial f}{\\partial x} = 2xy + y^3cos(x) $"
   ]
  },
  {
   "cell_type": "markdown",
   "id": "70ac9886",
   "metadata": {},
   "source": [
    "$ \\frac{\\partial f}{\\partial y}  = x^2 + 3sin(x)y^2 $"
   ]
  },
  {
   "cell_type": "markdown",
   "id": "488802fa",
   "metadata": {},
   "source": [
    "### Question 5"
   ]
  },
  {
   "cell_type": "code",
   "execution_count": 13,
   "id": "29472227",
   "metadata": {},
   "outputs": [],
   "source": [
    "import jax.numpy as jnp\n",
    "from jax import grad"
   ]
  },
  {
   "cell_type": "markdown",
   "id": "02447a48",
   "metadata": {},
   "source": [
    "Gradients using jax are calculated below."
   ]
  },
  {
   "cell_type": "code",
   "execution_count": 49,
   "id": "70458f49",
   "metadata": {},
   "outputs": [
    {
     "name": "stdout",
     "output_type": "stream",
     "text": [
      "[[ 88.03822  -46.82074 ]\n",
      " [ 84.02948  -46.51677 ]\n",
      " [ 84.6718   -46.990604]\n",
      " [ 83.94533  -47.139854]\n",
      " [ 86.942696 -46.97158 ]\n",
      " [ 82.134964 -47.301365]\n",
      " [ 87.662025 -46.313087]\n",
      " [ 84.198906 -46.902367]\n",
      " [ 85.88522  -46.8313  ]\n",
      " [ 85.31515  -47.16497 ]]\n"
     ]
    }
   ],
   "source": [
    "def function (x,y):\n",
    "    return (x**2)*y + (y**3)*jnp.sin(x)\n",
    "\n",
    "generator = np.random.RandomState(1)\n",
    "a = generator.normal(loc=5.0,scale=0.01,size = [1,10]) # random values of x\n",
    "b = generator.normal(loc=5.0,scale=0.01,size = [1,10]) # random values of y\n",
    "\n",
    "\n",
    "df_dx = grad(function)\n",
    "df_dy = grad(function, argnums=1)\n",
    "a = jnp.asarray(a)\n",
    "b = jnp.asarray(b)\n",
    "a1 = a[0]\n",
    "b1 = b[0]\n",
    "\n",
    "pd_x = []\n",
    "pd_y = []\n",
    "\n",
    "for i in range(10):\n",
    "    pd_x.append((df_dx(a1[i],b1[i])))\n",
    "    pd_y.append((df_dy(a1[i],b1[i])))\n",
    "    \n",
    "pd_x = jnp.asarray(pd_x).reshape(1,10)\n",
    "pd_y = jnp.asarray(pd_y).reshape(1,10)\n",
    "\n",
    "gradients_jax = np.append(pd_x,pd_y,axis = 0)\n",
    "\n",
    "print(gradients_jax.T)\n",
    "\n"
   ]
  },
  {
   "cell_type": "markdown",
   "id": "44c25f6e",
   "metadata": {},
   "source": [
    "Gradient as calculated in question 4."
   ]
  },
  {
   "cell_type": "markdown",
   "id": "a87c5d4d",
   "metadata": {},
   "source": [
    "$ \\frac{\\partial f}{\\partial x} = 2xy + y^3cos(x) $"
   ]
  },
  {
   "cell_type": "markdown",
   "id": "ae1a27df",
   "metadata": {},
   "source": [
    "$ \\frac{\\partial f}{\\partial y}  = x^2 + 3sin(x)y^2 $"
   ]
  },
  {
   "cell_type": "markdown",
   "id": "b9b0c9d0",
   "metadata": {},
   "source": [
    "The gradients calculate according to the formula in question 4, for 10 random values of (x,y) is given below."
   ]
  },
  {
   "cell_type": "code",
   "execution_count": 15,
   "id": "8eeea8e0",
   "metadata": {},
   "outputs": [
    {
     "name": "stdout",
     "output_type": "stream",
     "text": [
      "[[ 88.03822  -46.82074 ]\n",
      " [ 84.02948  -46.51676 ]\n",
      " [ 84.6718   -46.990604]\n",
      " [ 83.94533  -47.139854]\n",
      " [ 86.942696 -46.97158 ]\n",
      " [ 82.134964 -47.301373]\n",
      " [ 87.662025 -46.31308 ]\n",
      " [ 84.198906 -46.902367]\n",
      " [ 85.88522  -46.83129 ]\n",
      " [ 85.31515  -47.164978]]\n"
     ]
    }
   ],
   "source": [
    "def partial_x (x,y):\n",
    "    return  2*x*y + (y**3)*np.cos(x)\n",
    "\n",
    "def partial_y (x,y):\n",
    "    return  x**2 + 3*np.sin(x)*(y**2)\n",
    "\n",
    "df_dx = []\n",
    "df_dy = []\n",
    "\n",
    "for m,n in zip(a,b):\n",
    "    df_dx.append(partial_x(m,n))\n",
    "    df_dy.append(partial_y(m,n))\n",
    "    \n",
    "df_dx = np.array(df_dx)\n",
    "df_dy = np.array(df_dy)\n",
    "\n",
    "gradients = np.append(df_dx,df_dy,axis = 0)\n",
    "\n",
    "print(gradients.T)"
   ]
  },
  {
   "cell_type": "markdown",
   "id": "c5a7bbb8",
   "metadata": {},
   "source": [
    "First column is df_dx and second column is df_dy. We get the same gradient for 10 random points from the method of question 4 and jax."
   ]
  },
  {
   "cell_type": "markdown",
   "id": "98593114",
   "metadata": {},
   "source": [
    "### Question 6"
   ]
  },
  {
   "cell_type": "code",
   "execution_count": 16,
   "id": "16d5e887",
   "metadata": {},
   "outputs": [],
   "source": [
    "import sympy as sympy\n",
    "from sympy import *"
   ]
  },
  {
   "cell_type": "code",
   "execution_count": 17,
   "id": "78f7bf12",
   "metadata": {},
   "outputs": [
    {
     "data": {
      "text/latex": [
       "$\\displaystyle x^{2} y + y^{3} \\sin{\\left(x \\right)}$"
      ],
      "text/plain": [
       "x**2*y + y**3*sin(x)"
      ]
     },
     "execution_count": 17,
     "metadata": {},
     "output_type": "execute_result"
    }
   ],
   "source": [
    "x,y = symbols('x y')\n",
    "function = (x**2)*y + (y**3)*sympy.sin(x)\n",
    "function"
   ]
  },
  {
   "cell_type": "code",
   "execution_count": 18,
   "id": "03c773ae",
   "metadata": {},
   "outputs": [
    {
     "data": {
      "text/latex": [
       "$\\displaystyle 2 x y + y^{3} \\cos{\\left(x \\right)}$"
      ],
      "text/plain": [
       "2*x*y + y**3*cos(x)"
      ]
     },
     "execution_count": 18,
     "metadata": {},
     "output_type": "execute_result"
    }
   ],
   "source": [
    "diff(function,x)"
   ]
  },
  {
   "cell_type": "code",
   "execution_count": 19,
   "id": "e0c712aa",
   "metadata": {},
   "outputs": [
    {
     "data": {
      "text/latex": [
       "$\\displaystyle x^{2} + 3 y^{2} \\sin{\\left(x \\right)}$"
      ],
      "text/plain": [
       "x**2 + 3*y**2*sin(x)"
      ]
     },
     "execution_count": 19,
     "metadata": {},
     "output_type": "execute_result"
    }
   ],
   "source": [
    "diff(function,y)"
   ]
  },
  {
   "cell_type": "code",
   "execution_count": 20,
   "id": "d0544e67",
   "metadata": {},
   "outputs": [
    {
     "name": "stdout",
     "output_type": "stream",
     "text": [
      "[[ 88.03822457 -46.82073136]\n",
      " [ 84.02947417 -46.51676452]\n",
      " [ 84.6718036  -46.99060782]\n",
      " [ 83.94532935 -47.13984906]\n",
      " [ 86.94269568 -46.97158342]\n",
      " [ 82.13497097 -47.30137391]\n",
      " [ 87.66202727 -46.31307883]\n",
      " [ 84.19890593 -46.90236853]\n",
      " [ 85.8852285  -46.83129113]\n",
      " [ 85.31514619 -47.1649755 ]]\n"
     ]
    }
   ],
   "source": [
    "x,y = symbols('x y')\n",
    "\n",
    "function = (x**2)*y + (y**3)*sympy.sin(x)\n",
    "\n",
    "df_dx_sympy = diff(function,x)\n",
    "df_dy_sympy = diff(function,y)\n",
    "\n",
    "pd_x = []\n",
    "pd_y = []\n",
    "\n",
    "for i in range(10):\n",
    "    pd_x.append(float(df_dx_sympy.subs({x:a[0][i], y:b[0][i]})))\n",
    "    pd_y.append(float(df_dy_sympy.subs({x:a[0][i], y:b[0][i]})))\n",
    "    \n",
    "pd_x = np.array(pd_x).reshape(1,10)\n",
    "pd_y = np.array(pd_y).reshape(1,10)\n",
    "\n",
    "\n",
    "\n",
    "gradients_sympy = np.append(pd_x,pd_y,axis = 0)\n",
    "\n",
    "\n",
    "print(gradients_sympy.T)\n",
    "\n"
   ]
  },
  {
   "cell_type": "markdown",
   "id": "2367136b",
   "metadata": {},
   "source": [
    "<font size = \"3\">Analytically we get the same functions (i.e partial derivatives) in both method 4 and sympy. For some random values of (x,y) too, we get the same values of gradients"
   ]
  },
  {
   "cell_type": "markdown",
   "id": "6c11d891",
   "metadata": {},
   "source": [
    "### Question 7"
   ]
  },
  {
   "cell_type": "code",
   "execution_count": 50,
   "id": "b3d0d3ab",
   "metadata": {},
   "outputs": [],
   "source": [
    "record = {2022:{'Branch1':{'Student_1':{'Roll Number':1,'Name':'N', 'Marks':{'Maths':100, 'English':70}}},'Branch2':{}},\n",
    "          2023:{'Branch1':{},'Branch2':{}},\n",
    "          2024:{'Branch1':{},'Branch2':{}},\n",
    "          2025:{'Branch1':{},'Branch2':{}}}"
   ]
  },
  {
   "cell_type": "code",
   "execution_count": 51,
   "id": "34b3c578",
   "metadata": {},
   "outputs": [
    {
     "name": "stdout",
     "output_type": "stream",
     "text": [
      "{2022: {'Branch1': {'Student_1': {'Roll Number': 1, 'Name': 'N', 'Marks': {'Maths': 100, 'English': 70}}}, 'Branch2': {}}, 2023: {'Branch1': {}, 'Branch2': {}}, 2024: {'Branch1': {}, 'Branch2': {}}, 2025: {'Branch1': {}, 'Branch2': {}}}\n"
     ]
    }
   ],
   "source": [
    "print(record)"
   ]
  },
  {
   "cell_type": "markdown",
   "id": "c3566bd1",
   "metadata": {},
   "source": [
    "### Question 8"
   ]
  },
  {
   "cell_type": "code",
   "execution_count": 52,
   "id": "e719c442",
   "metadata": {},
   "outputs": [],
   "source": [
    "class Student:\n",
    "    def __init__(self,name,roll_no,marks):\n",
    "        self.name = name\n",
    "        self.roll_no = roll_no\n",
    "        self.marks = marks\n",
    "        \n",
    "class Branch:\n",
    "    def __init__(self,branch_no):\n",
    "        self.branch_no = branch_no\n",
    "        self.students = []\n",
    "        \n",
    "    def add_student (self,student):\n",
    "        self.students.append(student)\n",
    "\n",
    "class Year:\n",
    "    def __init__(self,year):\n",
    "        self.year = year\n",
    "        self.branches = []\n",
    "    \n",
    "    def add_branch (self,branch):\n",
    "        self.branches.append(branch)\n",
    "        \n",
    "database = []"
   ]
  },
  {
   "cell_type": "code",
   "execution_count": 53,
   "id": "1cee5254",
   "metadata": {},
   "outputs": [],
   "source": [
    "Student_1 = Student(\"N\",1,{'Maths':100, 'English':70})\n",
    "Branch_1_2022 = Branch(1)\n",
    "Branch_1_2022.add_student(Student_1)\n",
    "Branch_2_2022 = Branch(2)\n",
    "Year_2022 = Year(2022)\n",
    "Year_2022.add_branch (Branch_1_2022)\n",
    "Year_2022.add_branch (Branch_2_2022)\n",
    "Branch_1_2023 = Branch(1)\n",
    "Branch_2_2023 = Branch(1)\n",
    "\n",
    "Branch_1_2024 = Branch(1)\n",
    "Branch_2_2024 = Branch(1)\n",
    "\n",
    "Branch_1_2025 = Branch(1)\n",
    "Branch_2_2025 = Branch(1)\n",
    "\n",
    "\n",
    "Year_2023 = Year(2023)\n",
    "Year_2023.add_branch (Branch_1_2023)\n",
    "Year_2023.add_branch (Branch_2_2023)\n",
    "\n",
    "Year_2024 = Year(2024)\n",
    "Year_2024.add_branch (Branch_1_2024)\n",
    "Year_2024.add_branch (Branch_2_2024)\n",
    "\n",
    "Year_2025 = Year(2025)\n",
    "Year_2025.add_branch (Branch_1_2025)\n",
    "Year_2025.add_branch (Branch_2_2025)\n",
    "\n",
    "database.append(Year_2022)\n",
    "database.append(Year_2023)\n",
    "database.append(Year_2024)\n",
    "database.append(Year_2025)"
   ]
  },
  {
   "cell_type": "code",
   "execution_count": 54,
   "id": "fdc57ab9",
   "metadata": {},
   "outputs": [
    {
     "name": "stdout",
     "output_type": "stream",
     "text": [
      "N\n"
     ]
    }
   ],
   "source": [
    "print(Year_2022.branches[0].students[0].name)"
   ]
  },
  {
   "cell_type": "code",
   "execution_count": 55,
   "id": "d13d5b6b",
   "metadata": {},
   "outputs": [
    {
     "name": "stdout",
     "output_type": "stream",
     "text": [
      "1\n"
     ]
    }
   ],
   "source": [
    "print(Year_2022.branches[0].students[0].roll_no)"
   ]
  },
  {
   "cell_type": "code",
   "execution_count": 56,
   "id": "bcb6ab27",
   "metadata": {},
   "outputs": [
    {
     "name": "stdout",
     "output_type": "stream",
     "text": [
      "{'Maths': 100, 'English': 70}\n"
     ]
    }
   ],
   "source": [
    "print(Year_2022.branches[0].students[0].marks)"
   ]
  },
  {
   "cell_type": "markdown",
   "id": "19d5ef89",
   "metadata": {},
   "source": [
    "### Question 9"
   ]
  },
  {
   "cell_type": "code",
   "execution_count": 57,
   "id": "cca323a7",
   "metadata": {},
   "outputs": [],
   "source": [
    "import matplotlib.pyplot as plt"
   ]
  },
  {
   "cell_type": "code",
   "execution_count": 58,
   "id": "2f4f1fd2",
   "metadata": {},
   "outputs": [
    {
     "data": {
      "text/plain": [
       "<function matplotlib.pyplot.show(close=None, block=None)>"
      ]
     },
     "execution_count": 58,
     "metadata": {},
     "output_type": "execute_result"
    },
    {
     "data": {
      "image/png": "[encoded data removed]",
      "text/plain": [
       "<Figure size 432x288 with 1 Axes>"
      ]
     },
     "metadata": {
      "needs_background": "light"
     },
     "output_type": "display_data"
    }
   ],
   "source": [
    "x = np.arange(0.5,100.5,0.5)\n",
    "y = x\n",
    "plt.plot(x,y)\n",
    "plt.title('y=x')\n",
    "plt.xlabel('x')\n",
    "plt.ylabel('y')\n",
    "plt.show"
   ]
  },
  {
   "cell_type": "code",
   "execution_count": 59,
   "id": "0ea4fcda",
   "metadata": {},
   "outputs": [
    {
     "data": {
      "text/plain": [
       "<function matplotlib.pyplot.show(close=None, block=None)>"
      ]
     },
     "execution_count": 59,
     "metadata": {},
     "output_type": "execute_result"
    },
    {
     "data": {
      "image/png": "[encoded data removed]",
      "text/plain": [
       "<Figure size 432x288 with 1 Axes>"
      ]
     },
     "metadata": {
      "needs_background": "light"
     },
     "output_type": "display_data"
    }
   ],
   "source": [
    "x = np.arange(0.5,100.5,0.5)\n",
    "y = x**2\n",
    "plt.plot(x,y)\n",
    "plt.title('y=x^2')\n",
    "plt.xlabel('x')\n",
    "plt.ylabel('y')\n",
    "plt.show"
   ]
  },
  {
   "cell_type": "code",
   "execution_count": 60,
   "id": "163003eb",
   "metadata": {},
   "outputs": [
    {
     "data": {
      "text/plain": [
       "<function matplotlib.pyplot.show(close=None, block=None)>"
      ]
     },
     "execution_count": 60,
     "metadata": {},
     "output_type": "execute_result"
    },
    {
     "data": {
      "image/png": "[encoded data removed]",
      "text/plain": [
       "<Figure size 432x288 with 1 Axes>"
      ]
     },
     "metadata": {
      "needs_background": "light"
     },
     "output_type": "display_data"
    }
   ],
   "source": [
    "x = np.arange(0.5,100.5,0.5)\n",
    "y = (x**3)/100\n",
    "plt.plot(x,y)\n",
    "plt.title('y=(x^3)/100')\n",
    "plt.xlabel('x')\n",
    "plt.ylabel('y')\n",
    "plt.show"
   ]
  },
  {
   "cell_type": "code",
   "execution_count": 61,
   "id": "1168756a",
   "metadata": {},
   "outputs": [
    {
     "data": {
      "text/plain": [
       "<function matplotlib.pyplot.show(close=None, block=None)>"
      ]
     },
     "execution_count": 61,
     "metadata": {},
     "output_type": "execute_result"
    },
    {
     "data": {
      "image/png": "[encoded data removed]",
      "text/plain": [
       "<Figure size 432x288 with 1 Axes>"
      ]
     },
     "metadata": {
      "needs_background": "light"
     },
     "output_type": "display_data"
    }
   ],
   "source": [
    "x = np.arange(0.5,100.5,0.5)\n",
    "y = np.sin(x)\n",
    "plt.plot(x,y)\n",
    "plt.title('y=sin(x)')\n",
    "plt.xlabel('x')\n",
    "plt.ylabel('y')\n",
    "plt.show"
   ]
  },
  {
   "cell_type": "code",
   "execution_count": 62,
   "id": "8c76a5e8",
   "metadata": {},
   "outputs": [
    {
     "data": {
      "text/plain": [
       "<function matplotlib.pyplot.show(close=None, block=None)>"
      ]
     },
     "execution_count": 62,
     "metadata": {},
     "output_type": "execute_result"
    },
    {
     "data": {
      "image/png": "[encoded data removed]",
      "text/plain": [
       "<Figure size 432x288 with 1 Axes>"
      ]
     },
     "metadata": {
      "needs_background": "light"
     },
     "output_type": "display_data"
    }
   ],
   "source": [
    "x = np.arange(0.5,100.5,0.5)\n",
    "y = (np.sin(x))/x\n",
    "plt.plot(x,y)\n",
    "plt.title('y=sin(x)/x')\n",
    "plt.xlabel('x')\n",
    "plt.ylabel('y')\n",
    "plt.show"
   ]
  },
  {
   "cell_type": "code",
   "execution_count": 63,
   "id": "4c138a75",
   "metadata": {},
   "outputs": [
    {
     "data": {
      "text/plain": [
       "<function matplotlib.pyplot.show(close=None, block=None)>"
      ]
     },
     "execution_count": 63,
     "metadata": {},
     "output_type": "execute_result"
    },
    {
     "data": {
      "image/png": "[encoded data removed]",
      "text/plain": [
       "<Figure size 432x288 with 1 Axes>"
      ]
     },
     "metadata": {
      "needs_background": "light"
     },
     "output_type": "display_data"
    }
   ],
   "source": [
    "x = np.arange(0.5,100.5,0.5)\n",
    "y = np.log(x)\n",
    "plt.plot(x,y)\n",
    "plt.title('y=log(x)')\n",
    "plt.xlabel('x')\n",
    "plt.ylabel('y')\n",
    "plt.show"
   ]
  },
  {
   "cell_type": "code",
   "execution_count": 64,
   "id": "701068e9",
   "metadata": {},
   "outputs": [
    {
     "data": {
      "text/plain": [
       "<function matplotlib.pyplot.show(close=None, block=None)>"
      ]
     },
     "execution_count": 64,
     "metadata": {},
     "output_type": "execute_result"
    },
    {
     "data": {
      "image/png": "[encoded data removed]",
      "text/plain": [
       "<Figure size 432x288 with 1 Axes>"
      ]
     },
     "metadata": {
      "needs_background": "light"
     },
     "output_type": "display_data"
    }
   ],
   "source": [
    "x = np.arange(0.5,100.5,0.5)\n",
    "y = np.exp(x)\n",
    "plt.plot(x,y)\n",
    "plt.title('y=e^x')\n",
    "plt.xlabel('x')\n",
    "plt.ylabel('y')\n",
    "plt.show"
   ]
  },
  {
   "cell_type": "markdown",
   "id": "0741c526",
   "metadata": {},
   "source": [
    "### Question 10"
   ]
  },
  {
   "cell_type": "code",
   "execution_count": 65,
   "id": "51d9b9ee",
   "metadata": {},
   "outputs": [],
   "source": [
    "array = np.random.uniform(low = 1,high = 2, size = (20,5))"
   ]
  },
  {
   "cell_type": "code",
   "execution_count": 66,
   "id": "bc7cd31a",
   "metadata": {},
   "outputs": [],
   "source": [
    "import pandas as pd"
   ]
  },
  {
   "cell_type": "code",
   "execution_count": 67,
   "id": "b7c3542a",
   "metadata": {},
   "outputs": [
    {
     "name": "stdout",
     "output_type": "stream",
     "text": [
      "           a         b         c         d         e\n",
      "0   1.044201  1.745183  1.244446  1.479039  1.349681\n",
      "1   1.097488  1.963587  1.388656  1.895002  1.911251\n",
      "2   1.943251  1.045539  1.658343  1.482178  1.517841\n",
      "3   1.575923  1.068660  1.733408  1.160998  1.984799\n",
      "4   1.815636  1.561423  1.866445  1.408063  1.753817\n",
      "5   1.755201  1.528458  1.869619  1.182286  1.221922\n",
      "6   1.101210  1.406528  1.427726  1.021935  1.046339\n",
      "7   1.070797  1.322971  1.031708  1.677777  1.708531\n",
      "8   1.496562  1.530080  1.232681  1.773423  1.646038\n",
      "9   1.683357  1.483238  1.052148  1.115697  1.571741\n",
      "10  1.472547  1.171020  1.900313  1.006115  1.896420\n",
      "11  1.079850  1.792273  1.529444  1.039637  1.444622\n",
      "12  1.310141  1.184777  1.017772  1.232106  1.878025\n",
      "13  1.094628  1.244658  1.725447  1.755909  1.264901\n",
      "14  1.571398  1.084331  1.144264  1.171305  1.403676\n",
      "15  1.052358  1.165035  1.965591  1.561204  1.508027\n",
      "16  1.754400  1.456830  1.351190  1.508094  1.921107\n",
      "17  1.938752  1.889800  1.645411  1.269922  1.436802\n",
      "18  1.080335  1.735656  1.318804  1.284467  1.482097\n",
      "19  1.948300  1.053655  1.981655  1.699772  1.829005\n"
     ]
    }
   ],
   "source": [
    "data = pd.DataFrame(array)\n",
    "data.columns = ['a','b','c','d','e']\n",
    "print(data)"
   ]
  },
  {
   "cell_type": "code",
   "execution_count": 68,
   "id": "ae91a46d",
   "metadata": {},
   "outputs": [
    {
     "name": "stdout",
     "output_type": "stream",
     "text": [
      "the column with highest standard deviation is a\n"
     ]
    }
   ],
   "source": [
    "x = data.std()\n",
    "index_max = np.argmax(x)\n",
    "print(f\"the column with highest standard deviation is {data.columns[index_max]}\")"
   ]
  },
  {
   "cell_type": "code",
   "execution_count": 69,
   "id": "1cca0fe3",
   "metadata": {},
   "outputs": [
    {
     "name": "stdout",
     "output_type": "stream",
     "text": [
      "The row with lowest mean is 6\n"
     ]
    }
   ],
   "source": [
    "y = data.mean(axis=1)\n",
    "print(f\"The row with lowest mean is {np.argmin(y)}\")"
   ]
  },
  {
   "cell_type": "markdown",
   "id": "a74195fd",
   "metadata": {},
   "source": [
    "### Question 11"
   ]
  },
  {
   "cell_type": "code",
   "execution_count": 70,
   "id": "1afeb026",
   "metadata": {},
   "outputs": [],
   "source": [
    "X = 0\n",
    "for x in range(5):\n",
    "    X += data.iloc[:,x]\n",
    "data.insert(5,\"f\",X)"
   ]
  },
  {
   "cell_type": "code",
   "execution_count": 71,
   "id": "8bcc7e6f",
   "metadata": {},
   "outputs": [
    {
     "name": "stdout",
     "output_type": "stream",
     "text": [
      "           a         b         c         d         e         f\n",
      "0   1.044201  1.745183  1.244446  1.479039  1.349681  6.862550\n",
      "1   1.097488  1.963587  1.388656  1.895002  1.911251  8.255983\n",
      "2   1.943251  1.045539  1.658343  1.482178  1.517841  7.647152\n",
      "3   1.575923  1.068660  1.733408  1.160998  1.984799  7.523789\n",
      "4   1.815636  1.561423  1.866445  1.408063  1.753817  8.405383\n",
      "5   1.755201  1.528458  1.869619  1.182286  1.221922  7.557485\n",
      "6   1.101210  1.406528  1.427726  1.021935  1.046339  6.003738\n",
      "7   1.070797  1.322971  1.031708  1.677777  1.708531  6.811785\n",
      "8   1.496562  1.530080  1.232681  1.773423  1.646038  7.678783\n",
      "9   1.683357  1.483238  1.052148  1.115697  1.571741  6.906181\n",
      "10  1.472547  1.171020  1.900313  1.006115  1.896420  7.446415\n",
      "11  1.079850  1.792273  1.529444  1.039637  1.444622  6.885825\n",
      "12  1.310141  1.184777  1.017772  1.232106  1.878025  6.622820\n",
      "13  1.094628  1.244658  1.725447  1.755909  1.264901  7.085544\n",
      "14  1.571398  1.084331  1.144264  1.171305  1.403676  6.374972\n",
      "15  1.052358  1.165035  1.965591  1.561204  1.508027  7.252214\n",
      "16  1.754400  1.456830  1.351190  1.508094  1.921107  7.991620\n",
      "17  1.938752  1.889800  1.645411  1.269922  1.436802  8.180687\n",
      "18  1.080335  1.735656  1.318804  1.284467  1.482097  6.901358\n",
      "19  1.948300  1.053655  1.981655  1.699772  1.829005  8.512388\n"
     ]
    }
   ],
   "source": [
    "print(data)"
   ]
  },
  {
   "cell_type": "code",
   "execution_count": 72,
   "id": "d8f804c6",
   "metadata": {},
   "outputs": [
    {
     "name": "stdout",
     "output_type": "stream",
     "text": [
      "           a         b         c         d         e         f    g\n",
      "0   1.044201  1.745183  1.244446  1.479039  1.349681  6.862550  LT8\n",
      "1   1.097488  1.963587  1.388656  1.895002  1.911251  8.255983  GT8\n",
      "2   1.943251  1.045539  1.658343  1.482178  1.517841  7.647152  LT8\n",
      "3   1.575923  1.068660  1.733408  1.160998  1.984799  7.523789  LT8\n",
      "4   1.815636  1.561423  1.866445  1.408063  1.753817  8.405383  GT8\n",
      "5   1.755201  1.528458  1.869619  1.182286  1.221922  7.557485  LT8\n",
      "6   1.101210  1.406528  1.427726  1.021935  1.046339  6.003738  LT8\n",
      "7   1.070797  1.322971  1.031708  1.677777  1.708531  6.811785  LT8\n",
      "8   1.496562  1.530080  1.232681  1.773423  1.646038  7.678783  LT8\n",
      "9   1.683357  1.483238  1.052148  1.115697  1.571741  6.906181  LT8\n",
      "10  1.472547  1.171020  1.900313  1.006115  1.896420  7.446415  LT8\n",
      "11  1.079850  1.792273  1.529444  1.039637  1.444622  6.885825  LT8\n",
      "12  1.310141  1.184777  1.017772  1.232106  1.878025  6.622820  LT8\n",
      "13  1.094628  1.244658  1.725447  1.755909  1.264901  7.085544  LT8\n",
      "14  1.571398  1.084331  1.144264  1.171305  1.403676  6.374972  LT8\n",
      "15  1.052358  1.165035  1.965591  1.561204  1.508027  7.252214  LT8\n",
      "16  1.754400  1.456830  1.351190  1.508094  1.921107  7.991620  LT8\n",
      "17  1.938752  1.889800  1.645411  1.269922  1.436802  8.180687  GT8\n",
      "18  1.080335  1.735656  1.318804  1.284467  1.482097  6.901358  LT8\n",
      "19  1.948300  1.053655  1.981655  1.699772  1.829005  8.512388  GT8\n"
     ]
    }
   ],
   "source": [
    "X = np.where(data.iloc[:,5]<8, \"LT8\", \"GT8\")\n",
    "data.insert(6,\"g\",X)\n",
    "print(data)"
   ]
  },
  {
   "cell_type": "code",
   "execution_count": 73,
   "id": "8020c34f",
   "metadata": {},
   "outputs": [
    {
     "name": "stdout",
     "output_type": "stream",
     "text": [
      "The number of rows in dataframe where value in column g in LT8 is 16\n"
     ]
    }
   ],
   "source": [
    "count = 0\n",
    "for x in data.iloc[:,6]:\n",
    "    if (x==\"LT8\"):\n",
    "        count += 1\n",
    "print(f\"The number of rows in dataframe where value in column g in LT8 is {count}\")"
   ]
  },
  {
   "cell_type": "code",
   "execution_count": 74,
   "id": "9e99ea45",
   "metadata": {},
   "outputs": [
    {
     "name": "stdout",
     "output_type": "stream",
     "text": [
      "If value in column g is LT8 then standard devaition of values in column f is 0.5110641247475086\n",
      "If value in column g is GT8 then standard devaition of values in column f is 0.1288645473573526\n"
     ]
    }
   ],
   "source": [
    "X = []\n",
    "Y = []\n",
    "\n",
    "for x in data.iloc[:,5]:\n",
    "    if (x<8):\n",
    "        X.append(x)\n",
    "    else:\n",
    "        Y.append(x)\n",
    "\n",
    "std_LT8 = np.std(X)\n",
    "std_GT8 = np.std(Y)\n",
    "\n",
    "print(f\"If value in column g is LT8 then standard devaition of values in column f is {std_LT8}\")\n",
    "print(f\"If value in column g is GT8 then standard devaition of values in column f is {std_GT8}\")"
   ]
  },
  {
   "cell_type": "markdown",
   "id": "de178f11",
   "metadata": {},
   "source": [
    "### Question 12"
   ]
  },
  {
   "cell_type": "markdown",
   "id": "0499a383",
   "metadata": {},
   "source": [
    "<font size = \"3\">Broadcasting in numpy happens when we try to perform operations on arrays that don't have compatible shapes. Numpy then tries to extend one or both of the arrays along rows or columns to match their shapes. Examples are given below."
   ]
  },
  {
   "cell_type": "code",
   "execution_count": 75,
   "id": "c306627a",
   "metadata": {},
   "outputs": [
    {
     "name": "stdout",
     "output_type": "stream",
     "text": [
      "x has 1x5 dimensions [0 1 2 3 4]\n",
      "\n",
      "y has 1x1 dimensions 4\n",
      "\n",
      "here the array y is broadcasted along row to match array x's shape to give z = x+y. [4 5 6 7 8]\n",
      "\n",
      "a has 1x5 dimensions [0 1 2 3 4]\n",
      "\n",
      "b has 5x1 dimension [[0]\n",
      " [1]\n",
      " [2]\n",
      " [3]\n",
      " [4]]\n",
      "\n",
      "both the arrays a and b are broadcasted to a 5x5 shape array so that their dimension matches to get c=a+b [[0 1 2 3 4]\n",
      " [1 2 3 4 5]\n",
      " [2 3 4 5 6]\n",
      " [3 4 5 6 7]\n",
      " [4 5 6 7 8]]\n"
     ]
    }
   ],
   "source": [
    "x = np.arange(5) #  1x5 array\n",
    "print(\"x has 1x5 dimensions\",x)\n",
    "print()\n",
    "y = 4 # 1x1 array\n",
    "print(\"y has 1x1 dimensions\",y)\n",
    "print()\n",
    "z = x+y # here the array y is broadcasted along row to match array x's shape.\n",
    "print(\"here the array y is broadcasted along row to match array x's shape to give z = x+y.\",z)\n",
    "print()\n",
    "\n",
    "a = np.arange(5) # 1x5 array\n",
    "print(\"a has 1x5 dimensions\",a)\n",
    "print()\n",
    "b = np.arange(5).reshape(-1,1) #5x1 array\n",
    "print(\"b has 5x1 dimension\",b)\n",
    "print()\n",
    "c = a+b # both the arrays a and b are broadcasted to a 5x5 shape array so that their dimension matches.\n",
    "print(\"both the arrays a and b are broadcasted to a 5x5 shape array so that their dimension matches to get c=a+b\",c)"
   ]
  },
  {
   "cell_type": "markdown",
   "id": "84202a4d",
   "metadata": {},
   "source": [
    "### Question 13"
   ]
  },
  {
   "cell_type": "code",
   "execution_count": 76,
   "id": "a1d8a589",
   "metadata": {},
   "outputs": [
    {
     "name": "stdout",
     "output_type": "stream",
     "text": [
      "1\n"
     ]
    }
   ],
   "source": [
    "def argmin (x):\n",
    "    min = 0\n",
    "    for i in range(len(x)):\n",
    "        if (x[i]<x[min]):\n",
    "            min = i\n",
    "    return min\n",
    "\n",
    "A = np.array([2,0,1,5,6,7])\n",
    "print(argmin(A))"
   ]
  },
  {
   "cell_type": "code",
   "execution_count": 48,
   "id": "bb8516e9",
   "metadata": {},
   "outputs": [
    {
     "data": {
      "text/plain": [
       "1"
      ]
     },
     "execution_count": 48,
     "metadata": {},
     "output_type": "execute_result"
    }
   ],
   "source": [
    "np.argmin(A)"
   ]
  }
 ],
 "metadata": {
  "kernelspec": {
   "display_name": "Python 3 (ipykernel)",
   "language": "python",
   "name": "python3"
  },
  "language_info": {
   "codemirror_mode": {
    "name": "ipython",
    "version": 3
   },
   "file_extension": ".py",
   "mimetype": "text/x-python",
   "name": "python",
   "nbconvert_exporter": "python",
   "pygments_lexer": "ipython3",
   "version": "3.9.12"
  }
 },
 "nbformat": 4,
 "nbformat_minor": 5
}
